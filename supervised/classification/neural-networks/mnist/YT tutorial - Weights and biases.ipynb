{
 "cells": [
  {
   "cell_type": "markdown",
   "id": "565e99dc",
   "metadata": {},
   "source": [
    "# Simple Perceptron"
   ]
  },
  {
   "cell_type": "code",
   "execution_count": 13,
   "id": "bf4cda38",
   "metadata": {},
   "outputs": [],
   "source": [
    "import tensorflow as tf\n",
    "import pandas as pd\n",
    "import numpy as np"
   ]
  },
  {
   "cell_type": "code",
   "execution_count": 2,
   "id": "c38407fc",
   "metadata": {},
   "outputs": [],
   "source": [
    "%load_ext tensorboard"
   ]
  },
  {
   "cell_type": "code",
   "execution_count": 3,
   "id": "a7c2f785",
   "metadata": {},
   "outputs": [],
   "source": [
    "# Import the dataset\n",
    "\n",
    "(x_train, y_train), (x_test, y_test) = tf.keras.datasets.mnist.load_data()"
   ]
  },
  {
   "cell_type": "code",
   "execution_count": 4,
   "id": "804a0b9c",
   "metadata": {},
   "outputs": [],
   "source": [
    "# For now, we'll focus on digit images of fives\n",
    "\n",
    "is_five_train = y_train == 5\n",
    "is_five_test = y_test == 5\n",
    "\n",
    "labels = [\"Not five\", \"five\"]"
   ]
  },
  {
   "cell_type": "code",
   "execution_count": 5,
   "id": "18f39064",
   "metadata": {},
   "outputs": [],
   "source": [
    "# Specifying the input shape for the perceptron (here, img_width x img_height)\n",
    "img_width = x_train.shape[1]\n",
    "img_height = x_train.shape[2]"
   ]
  },
  {
   "cell_type": "markdown",
   "id": "99111d4f",
   "metadata": {},
   "source": [
    "# Creating a model\n",
    "\n",
    "**Step 1: Design your model**\n",
    "\n",
    "Model 1:\n",
    "\n",
    "```\n",
    "(28, 28) ---> Flatten (784) ---> Dense (1)\n",
    "\n",
    "loss      : mse (default attr.)\n",
    "optimizer : adam (default attr.)\n",
    "```"
   ]
  },
  {
   "cell_type": "code",
   "execution_count": 6,
   "id": "36b1e69f",
   "metadata": {},
   "outputs": [
    {
     "name": "stdout",
     "output_type": "stream",
     "text": [
      "Model: \"model_1\"\n",
      "_________________________________________________________________\n",
      "Layer (type)                 Output Shape              Param #   \n",
      "=================================================================\n",
      "flatten (Flatten)            (None, 784)               0         \n",
      "_________________________________________________________________\n",
      "dense (Dense)                (None, 1)                 785       \n",
      "=================================================================\n",
      "Total params: 785\n",
      "Trainable params: 785\n",
      "Non-trainable params: 0\n",
      "_________________________________________________________________\n"
     ]
    }
   ],
   "source": [
    "# Imports required for building model\n",
    "from tensorflow.keras.models import Sequential\n",
    "from tensorflow.keras.layers import Flatten, Dense\n",
    "\n",
    "# Create a simple perceptron model\n",
    "model = Sequential(name=\"model_1\")\n",
    "model.add(Flatten(input_shape=(img_width, img_height)))\n",
    "model.add(Dense(1))\n",
    "\n",
    "# Shows how your model was built\n",
    "model.summary()"
   ]
  },
  {
   "cell_type": "markdown",
   "id": "4bf80f9e",
   "metadata": {},
   "source": [
    "**Step 2: Specify your model parameters**"
   ]
  },
  {
   "cell_type": "code",
   "execution_count": 7,
   "id": "671870c8",
   "metadata": {},
   "outputs": [],
   "source": [
    "model_params = {\n",
    "    \"epochs\": 10,\n",
    "    \"batch_size\": 32,\n",
    "    \"loss\": \"mse\",\n",
    "    \"optimizer\": \"adam\",\n",
    "}"
   ]
  },
  {
   "cell_type": "markdown",
   "id": "89a1c80b",
   "metadata": {},
   "source": [
    "**Step 3: Compile the model with the parameters**"
   ]
  },
  {
   "cell_type": "code",
   "execution_count": 8,
   "id": "2509742d",
   "metadata": {},
   "outputs": [],
   "source": [
    "model.compile(loss=model_params[\"loss\"],\n",
    "              optimizer=model_params[\"optimizer\"],\n",
    "              metrics=['accuracy'])"
   ]
  },
  {
   "cell_type": "markdown",
   "id": "3b34ca2a",
   "metadata": {},
   "source": [
    "**Step 4: Fit / Train the model**\n",
    "\n",
    "***(Optional)*** Specify tensorboard callbacks. \n",
    "Run tensorboard command first (after below cell) and then run the below cell. Then click on refersh icon on top right of tensorboard after every epoch to live track the accuracy and loss"
   ]
  },
  {
   "cell_type": "code",
   "execution_count": 10,
   "id": "b19e2ed9",
   "metadata": {},
   "outputs": [
    {
     "name": "stdout",
     "output_type": "stream",
     "text": [
      "Epoch 1/10\n",
      "1875/1875 [==============================] - 5s 2ms/step - loss: 846.0928 - accuracy: 0.5121 - val_loss: 18.9043 - val_accuracy: 0.5069\n",
      "Epoch 2/10\n",
      "1875/1875 [==============================] - 4s 2ms/step - loss: 12.5497 - accuracy: 0.5668 - val_loss: 1.0088 - val_accuracy: 0.6655\n",
      "Epoch 3/10\n",
      "1875/1875 [==============================] - 4s 2ms/step - loss: 2.6123 - accuracy: 0.6344 - val_loss: 8.5548 - val_accuracy: 0.7142\n",
      "Epoch 4/10\n",
      "1875/1875 [==============================] - 4s 2ms/step - loss: 4.5394 - accuracy: 0.6092 - val_loss: 1.2580 - val_accuracy: 0.5962\n",
      "Epoch 5/10\n",
      "1875/1875 [==============================] - 4s 2ms/step - loss: 8.3724 - accuracy: 0.5965 - val_loss: 11.7147 - val_accuracy: 0.2687\n",
      "Epoch 6/10\n",
      "1875/1875 [==============================] - 4s 2ms/step - loss: 3.3527 - accuracy: 0.6406 - val_loss: 2.6416 - val_accuracy: 0.5752\n",
      "Epoch 7/10\n",
      "1875/1875 [==============================] - 4s 2ms/step - loss: 6.6351 - accuracy: 0.5947 - val_loss: 3.1100 - val_accuracy: 0.8704\n",
      "Epoch 8/10\n",
      "1875/1875 [==============================] - 4s 2ms/step - loss: 6.7725 - accuracy: 0.5806 - val_loss: 14.9855 - val_accuracy: 0.8948\n",
      "Epoch 9/10\n",
      "1875/1875 [==============================] - 4s 2ms/step - loss: 3.5270 - accuracy: 0.6323 - val_loss: 1.4845 - val_accuracy: 0.4890\n",
      "Epoch 10/10\n",
      "1875/1875 [==============================] - 4s 2ms/step - loss: 6.1996 - accuracy: 0.5977 - val_loss: 3.4266 - val_accuracy: 0.7215\n"
     ]
    },
    {
     "data": {
      "text/plain": [
       "<tensorflow.python.keras.callbacks.History at 0x1373d16f588>"
      ]
     },
     "execution_count": 10,
     "metadata": {},
     "output_type": "execute_result"
    }
   ],
   "source": [
    "from tensorflow.keras.callbacks import TensorBoard\n",
    "\n",
    "log_dir = \"logs/fit/\" + model.name\n",
    "tb_callback = tf.keras.callbacks.TensorBoard(log_dir=log_dir, histogram_freq=1)\n",
    "\n",
    "\n",
    "model.fit(x_train, is_five_train, \n",
    "          epochs=model_params[\"epochs\"], \n",
    "          batch_size=model_params[\"batch_size\"],\n",
    "          validation_data=(x_test, is_five_test), \n",
    "          callbacks=[tb_callback])\n",
    "\n"
   ]
  },
  {
   "cell_type": "code",
   "execution_count": 9,
   "id": "cfff47a5",
   "metadata": {},
   "outputs": [
    {
     "data": {
      "text/plain": [
       "Reusing TensorBoard on port 6006 (pid 19244), started 0:41:01 ago. (Use '!kill 19244' to kill it.)"
      ]
     },
     "metadata": {},
     "output_type": "display_data"
    },
    {
     "data": {
      "text/html": [
       "\n",
       "      <iframe id=\"tensorboard-frame-4a1cc07b30df7a40\" width=\"100%\" height=\"800\" frameborder=\"0\">\n",
       "      </iframe>\n",
       "      <script>\n",
       "        (function() {\n",
       "          const frame = document.getElementById(\"tensorboard-frame-4a1cc07b30df7a40\");\n",
       "          const url = new URL(\"/\", window.location);\n",
       "          const port = 6006;\n",
       "          if (port) {\n",
       "            url.port = port;\n",
       "          }\n",
       "          frame.src = url;\n",
       "        })();\n",
       "      </script>\n",
       "    "
      ],
      "text/plain": [
       "<IPython.core.display.HTML object>"
      ]
     },
     "metadata": {},
     "output_type": "display_data"
    }
   ],
   "source": [
    "%tensorboard --logdir logs/fit"
   ]
  },
  {
   "cell_type": "markdown",
   "id": "ea4c52fa",
   "metadata": {},
   "source": [
    "**Step 5: Evaluate the model**\n",
    "\n",
    "Predict the test dataset and analyze them with corresponding test labels to check whether they make sense."
   ]
  },
  {
   "cell_type": "code",
   "execution_count": 21,
   "id": "c0b4ce54",
   "metadata": {},
   "outputs": [
    {
     "data": {
      "text/html": [
       "<div>\n",
       "<style scoped>\n",
       "    .dataframe tbody tr th:only-of-type {\n",
       "        vertical-align: middle;\n",
       "    }\n",
       "\n",
       "    .dataframe tbody tr th {\n",
       "        vertical-align: top;\n",
       "    }\n",
       "\n",
       "    .dataframe thead th {\n",
       "        text-align: right;\n",
       "    }\n",
       "</style>\n",
       "<table border=\"1\" class=\"dataframe\">\n",
       "  <thead>\n",
       "    <tr style=\"text-align: right;\">\n",
       "      <th></th>\n",
       "      <th>predicted_label</th>\n",
       "      <th>true_label</th>\n",
       "      <th>is_five</th>\n",
       "    </tr>\n",
       "  </thead>\n",
       "  <tbody>\n",
       "    <tr>\n",
       "      <th>0</th>\n",
       "      <td>-1.075747</td>\n",
       "      <td>7</td>\n",
       "      <td>False</td>\n",
       "    </tr>\n",
       "    <tr>\n",
       "      <th>1</th>\n",
       "      <td>-3.277275</td>\n",
       "      <td>2</td>\n",
       "      <td>False</td>\n",
       "    </tr>\n",
       "    <tr>\n",
       "      <th>2</th>\n",
       "      <td>0.202411</td>\n",
       "      <td>1</td>\n",
       "      <td>False</td>\n",
       "    </tr>\n",
       "    <tr>\n",
       "      <th>3</th>\n",
       "      <td>0.130790</td>\n",
       "      <td>0</td>\n",
       "      <td>False</td>\n",
       "    </tr>\n",
       "    <tr>\n",
       "      <th>4</th>\n",
       "      <td>-1.071357</td>\n",
       "      <td>4</td>\n",
       "      <td>False</td>\n",
       "    </tr>\n",
       "    <tr>\n",
       "      <th>...</th>\n",
       "      <td>...</td>\n",
       "      <td>...</td>\n",
       "      <td>...</td>\n",
       "    </tr>\n",
       "    <tr>\n",
       "      <th>9995</th>\n",
       "      <td>-2.882964</td>\n",
       "      <td>2</td>\n",
       "      <td>False</td>\n",
       "    </tr>\n",
       "    <tr>\n",
       "      <th>9996</th>\n",
       "      <td>-0.950244</td>\n",
       "      <td>3</td>\n",
       "      <td>False</td>\n",
       "    </tr>\n",
       "    <tr>\n",
       "      <th>9997</th>\n",
       "      <td>0.571817</td>\n",
       "      <td>4</td>\n",
       "      <td>False</td>\n",
       "    </tr>\n",
       "    <tr>\n",
       "      <th>9998</th>\n",
       "      <td>0.017272</td>\n",
       "      <td>5</td>\n",
       "      <td>True</td>\n",
       "    </tr>\n",
       "    <tr>\n",
       "      <th>9999</th>\n",
       "      <td>1.538231</td>\n",
       "      <td>6</td>\n",
       "      <td>False</td>\n",
       "    </tr>\n",
       "  </tbody>\n",
       "</table>\n",
       "<p>10000 rows × 3 columns</p>\n",
       "</div>"
      ],
      "text/plain": [
       "      predicted_label  true_label  is_five\n",
       "0           -1.075747           7    False\n",
       "1           -3.277275           2    False\n",
       "2            0.202411           1    False\n",
       "3            0.130790           0    False\n",
       "4           -1.071357           4    False\n",
       "...               ...         ...      ...\n",
       "9995        -2.882964           2    False\n",
       "9996        -0.950244           3    False\n",
       "9997         0.571817           4    False\n",
       "9998         0.017272           5     True\n",
       "9999         1.538231           6    False\n",
       "\n",
       "[10000 rows x 3 columns]"
      ]
     },
     "execution_count": 21,
     "metadata": {},
     "output_type": "execute_result"
    }
   ],
   "source": [
    "# Predict first 10 test samples\n",
    "n_samples = 10000\n",
    "predictions = model.predict(x_test[:n_samples, :, :])\n",
    "true_labels = y_test[:n_samples]\n",
    "is_five = is_five_test[:n_samples]\n",
    "\n",
    "pd.DataFrame(data={\n",
    "    \"predicted_label\": predictions.flatten(),\n",
    "    \"true_label\": true_labels,\n",
    "    \"is_five\": is_five\n",
    "})"
   ]
  },
  {
   "cell_type": "markdown",
   "id": "c8d503a1",
   "metadata": {},
   "source": [
    "**Step 6: Debug, rebuild, retrain and re-evaluate your model**"
   ]
  },
  {
   "cell_type": "code",
   "execution_count": 48,
   "id": "80a74d59",
   "metadata": {},
   "outputs": [],
   "source": [
    "# Let's try more epochs, say 100\n",
    "model_params[\"epochs\"] = 100"
   ]
  },
  {
   "cell_type": "code",
   "execution_count": 49,
   "id": "f565fdb7",
   "metadata": {},
   "outputs": [
    {
     "name": "stdout",
     "output_type": "stream",
     "text": [
      "Model: \"model_2\"\n",
      "_________________________________________________________________\n",
      "Layer (type)                 Output Shape              Param #   \n",
      "=================================================================\n",
      "flatten (Flatten)            (None, 784)               0         \n",
      "_________________________________________________________________\n",
      "dense (Dense)                (None, 1)                 785       \n",
      "=================================================================\n",
      "Total params: 785\n",
      "Trainable params: 785\n",
      "Non-trainable params: 0\n",
      "_________________________________________________________________\n"
     ]
    }
   ],
   "source": [
    "# create a new model with same architecture\n",
    "new_model = tf.keras.models.clone_model(model)\n",
    "new_model._name = \"model_2\"\n",
    "new_model.summary()"
   ]
  },
  {
   "cell_type": "code",
   "execution_count": 50,
   "id": "e481c214",
   "metadata": {},
   "outputs": [
    {
     "name": "stdout",
     "output_type": "stream",
     "text": [
      "Epoch 1/100\n",
      "1875/1875 [==============================] - 5s 2ms/step - loss: 1075.7101 - accuracy: 0.5077 - val_loss: 22.3630 - val_accuracy: 0.5880\n",
      "Epoch 2/100\n",
      "1875/1875 [==============================] - 4s 2ms/step - loss: 10.1214 - accuracy: 0.5674 - val_loss: 0.8949 - val_accuracy: 0.6680\n",
      "Epoch 3/100\n",
      "1875/1875 [==============================] - 4s 2ms/step - loss: 3.1649 - accuracy: 0.6398 - val_loss: 6.1561 - val_accuracy: 0.2850\n",
      "Epoch 4/100\n",
      "1875/1875 [==============================] - 4s 2ms/step - loss: 9.0277 - accuracy: 0.5779 - val_loss: 7.5212 - val_accuracy: 0.5772\n",
      "Epoch 5/100\n",
      "1875/1875 [==============================] - 4s 2ms/step - loss: 4.9109 - accuracy: 0.6067 - val_loss: 7.3839 - val_accuracy: 0.8926\n",
      "Epoch 6/100\n",
      "1875/1875 [==============================] - 4s 2ms/step - loss: 7.4243 - accuracy: 0.5946 - val_loss: 1.3850 - val_accuracy: 0.5076\n",
      "Epoch 7/100\n",
      "1875/1875 [==============================] - 4s 2ms/step - loss: 5.9954 - accuracy: 0.5996 - val_loss: 7.5086 - val_accuracy: 0.4802\n",
      "Epoch 8/100\n",
      "1875/1875 [==============================] - 4s 2ms/step - loss: 7.3299 - accuracy: 0.5772 - val_loss: 0.8847 - val_accuracy: 0.8289\n",
      "Epoch 9/100\n",
      "1875/1875 [==============================] - 4s 2ms/step - loss: 5.3561 - accuracy: 0.5939 - val_loss: 4.4207 - val_accuracy: 0.7306\n",
      "Epoch 10/100\n",
      "1875/1875 [==============================] - 4s 2ms/step - loss: 7.5013 - accuracy: 0.5843 - val_loss: 1.6028 - val_accuracy: 0.7339\n",
      "Epoch 11/100\n",
      "1875/1875 [==============================] - 4s 2ms/step - loss: 5.3170 - accuracy: 0.6171 - val_loss: 1.6479 - val_accuracy: 0.6641\n",
      "Epoch 12/100\n",
      "1875/1875 [==============================] - 4s 2ms/step - loss: 6.8225 - accuracy: 0.5762 - val_loss: 8.8483 - val_accuracy: 0.7039\n",
      "Epoch 13/100\n",
      "1875/1875 [==============================] - 4s 2ms/step - loss: 6.8521 - accuracy: 0.5827 - val_loss: 3.4935 - val_accuracy: 0.8158\n",
      "Epoch 14/100\n",
      "1875/1875 [==============================] - 4s 2ms/step - loss: 7.8270 - accuracy: 0.5957 - val_loss: 6.8380 - val_accuracy: 0.3335\n",
      "Epoch 15/100\n",
      "1875/1875 [==============================] - 4s 2ms/step - loss: 7.4007 - accuracy: 0.5757 - val_loss: 10.9967 - val_accuracy: 0.3341\n",
      "Epoch 16/100\n",
      "1875/1875 [==============================] - 4s 2ms/step - loss: 7.1901 - accuracy: 0.5791 - val_loss: 3.5838 - val_accuracy: 0.7660\n",
      "Epoch 17/100\n",
      "1875/1875 [==============================] - 4s 2ms/step - loss: 6.1940 - accuracy: 0.5978 - val_loss: 2.6676 - val_accuracy: 0.7571\n",
      "Epoch 18/100\n",
      "1875/1875 [==============================] - 4s 2ms/step - loss: 6.4512 - accuracy: 0.5899 - val_loss: 4.1473 - val_accuracy: 0.5156\n",
      "Epoch 19/100\n",
      "1875/1875 [==============================] - 4s 2ms/step - loss: 6.9355 - accuracy: 0.5803 - val_loss: 1.1060 - val_accuracy: 0.5152\n",
      "Epoch 20/100\n",
      "1875/1875 [==============================] - 4s 2ms/step - loss: 6.6911 - accuracy: 0.6258 - val_loss: 3.8794 - val_accuracy: 0.5651\n",
      "Epoch 21/100\n",
      "1875/1875 [==============================] - 4s 2ms/step - loss: 6.9757 - accuracy: 0.5804 - val_loss: 6.8071 - val_accuracy: 0.3804\n",
      "Epoch 22/100\n",
      "1875/1875 [==============================] - 4s 2ms/step - loss: 7.1952 - accuracy: 0.5839 - val_loss: 1.3648 - val_accuracy: 0.6957\n",
      "Epoch 23/100\n",
      "1875/1875 [==============================] - 4s 2ms/step - loss: 11.3287 - accuracy: 0.5919 - val_loss: 11.6835 - val_accuracy: 0.2638\n",
      "Epoch 24/100\n",
      "1875/1875 [==============================] - 4s 2ms/step - loss: 6.6961 - accuracy: 0.5989 - val_loss: 3.5491 - val_accuracy: 0.7919\n",
      "Epoch 25/100\n",
      "1875/1875 [==============================] - 4s 2ms/step - loss: 8.1636 - accuracy: 0.5791 - val_loss: 2.4758 - val_accuracy: 0.4574\n",
      "Epoch 26/100\n",
      "1875/1875 [==============================] - 4s 2ms/step - loss: 5.3816 - accuracy: 0.5808 - val_loss: 4.7198 - val_accuracy: 0.5978\n",
      "Epoch 27/100\n",
      "1875/1875 [==============================] - 4s 2ms/step - loss: 7.2695 - accuracy: 0.5779 - val_loss: 2.3531 - val_accuracy: 0.7773\n",
      "Epoch 28/100\n",
      "1875/1875 [==============================] - 4s 2ms/step - loss: 10.1839 - accuracy: 0.5726 - val_loss: 2.1647 - val_accuracy: 0.8572\n",
      "Epoch 29/100\n",
      "1875/1875 [==============================] - 4s 2ms/step - loss: 7.2325 - accuracy: 0.5874 - val_loss: 15.6673 - val_accuracy: 0.2325\n",
      "Epoch 30/100\n",
      "1875/1875 [==============================] - 4s 2ms/step - loss: 6.2225 - accuracy: 0.5795 - val_loss: 4.7152 - val_accuracy: 0.2358\n",
      "Epoch 31/100\n",
      "1875/1875 [==============================] - 4s 2ms/step - loss: 4.9727 - accuracy: 0.6087 - val_loss: 1.7701 - val_accuracy: 0.5184\n",
      "Epoch 32/100\n",
      "1875/1875 [==============================] - 4s 2ms/step - loss: 7.2206 - accuracy: 0.5982 - val_loss: 2.7474 - val_accuracy: 0.2190\n",
      "Epoch 33/100\n",
      "1875/1875 [==============================] - 4s 2ms/step - loss: 4.9630 - accuracy: 0.6188 - val_loss: 1.1045 - val_accuracy: 0.4047\n",
      "Epoch 34/100\n",
      "1875/1875 [==============================] - 4s 2ms/step - loss: 6.0232 - accuracy: 0.5965 - val_loss: 1.9290 - val_accuracy: 0.3890\n",
      "Epoch 35/100\n",
      "1875/1875 [==============================] - 4s 2ms/step - loss: 8.1054 - accuracy: 0.5820 - val_loss: 4.1276 - val_accuracy: 0.6441\n",
      "Epoch 36/100\n",
      "1875/1875 [==============================] - 4s 2ms/step - loss: 4.8139 - accuracy: 0.5983 - val_loss: 15.3575 - val_accuracy: 0.5655\n",
      "Epoch 37/100\n",
      "1875/1875 [==============================] - 4s 2ms/step - loss: 7.6663 - accuracy: 0.6097 - val_loss: 2.9330 - val_accuracy: 0.8461\n",
      "Epoch 38/100\n",
      "1875/1875 [==============================] - 4s 2ms/step - loss: 6.3861 - accuracy: 0.5926 - val_loss: 0.8530 - val_accuracy: 0.8511\n",
      "Epoch 39/100\n",
      "1875/1875 [==============================] - 4s 2ms/step - loss: 4.1475 - accuracy: 0.6318 - val_loss: 15.1410 - val_accuracy: 0.2268\n",
      "Epoch 40/100\n",
      "1875/1875 [==============================] - 4s 2ms/step - loss: 6.8630 - accuracy: 0.5900 - val_loss: 0.9914 - val_accuracy: 0.8374\n",
      "Epoch 41/100\n",
      "1875/1875 [==============================] - 4s 2ms/step - loss: 6.4843 - accuracy: 0.5995 - val_loss: 3.2436 - val_accuracy: 0.5349\n",
      "Epoch 42/100\n",
      "1875/1875 [==============================] - 4s 2ms/step - loss: 3.1219 - accuracy: 0.6244 - val_loss: 4.3599 - val_accuracy: 0.2940\n",
      "Epoch 43/100\n",
      "1875/1875 [==============================] - 4s 2ms/step - loss: 5.7674 - accuracy: 0.5805 - val_loss: 9.4905 - val_accuracy: 0.7620\n",
      "Epoch 44/100\n",
      "1875/1875 [==============================] - 4s 2ms/step - loss: 6.2947 - accuracy: 0.5976 - val_loss: 10.6703 - val_accuracy: 0.3834\n",
      "Epoch 45/100\n",
      "1875/1875 [==============================] - 4s 2ms/step - loss: 11.1182 - accuracy: 0.6002 - val_loss: 3.4123 - val_accuracy: 0.7699\n",
      "Epoch 46/100\n",
      "1875/1875 [==============================] - 4s 2ms/step - loss: 7.0375 - accuracy: 0.5855 - val_loss: 7.9611 - val_accuracy: 0.6393\n",
      "Epoch 47/100\n",
      "1875/1875 [==============================] - 4s 2ms/step - loss: 4.3514 - accuracy: 0.6082 - val_loss: 1.4015 - val_accuracy: 0.5497\n",
      "Epoch 48/100\n",
      "1875/1875 [==============================] - 4s 2ms/step - loss: 5.3363 - accuracy: 0.6073 - val_loss: 8.3178 - val_accuracy: 0.2459\n",
      "Epoch 49/100\n",
      "1875/1875 [==============================] - 4s 2ms/step - loss: 3.9161 - accuracy: 0.6015 - val_loss: 3.8096 - val_accuracy: 0.8481\n",
      "Epoch 50/100\n",
      "1875/1875 [==============================] - 4s 2ms/step - loss: 7.7622 - accuracy: 0.5849 - val_loss: 6.1672 - val_accuracy: 0.8853\n",
      "Epoch 51/100\n",
      "1875/1875 [==============================] - 4s 2ms/step - loss: 7.1732 - accuracy: 0.5929 - val_loss: 1.4365 - val_accuracy: 0.9011\n",
      "Epoch 52/100\n",
      "1875/1875 [==============================] - 4s 2ms/step - loss: 6.2126 - accuracy: 0.6012 - val_loss: 6.4458 - val_accuracy: 0.4286\n",
      "Epoch 53/100\n",
      "1875/1875 [==============================] - 4s 2ms/step - loss: 7.3233 - accuracy: 0.5842 - val_loss: 1.0799 - val_accuracy: 0.8157\n",
      "Epoch 54/100\n",
      "1875/1875 [==============================] - 4s 2ms/step - loss: 5.5092 - accuracy: 0.5994 - val_loss: 16.7491 - val_accuracy: 0.8223\n",
      "Epoch 55/100\n",
      "1875/1875 [==============================] - 4s 2ms/step - loss: 7.6637 - accuracy: 0.5868 - val_loss: 4.3699 - val_accuracy: 0.6262\n",
      "Epoch 56/100\n",
      "1875/1875 [==============================] - 4s 2ms/step - loss: 7.4689 - accuracy: 0.5770 - val_loss: 33.9254 - val_accuracy: 0.8629\n",
      "Epoch 57/100\n"
     ]
    },
    {
     "name": "stdout",
     "output_type": "stream",
     "text": [
      "1875/1875 [==============================] - 4s 2ms/step - loss: 6.2877 - accuracy: 0.6010 - val_loss: 6.5472 - val_accuracy: 0.4680\n",
      "Epoch 58/100\n",
      "1875/1875 [==============================] - 4s 2ms/step - loss: 7.8392 - accuracy: 0.5861 - val_loss: 1.4103 - val_accuracy: 0.7917\n",
      "Epoch 59/100\n",
      "1875/1875 [==============================] - 4s 2ms/step - loss: 6.8645 - accuracy: 0.5818 - val_loss: 2.7669 - val_accuracy: 0.7803\n",
      "Epoch 60/100\n",
      "1875/1875 [==============================] - 5s 3ms/step - loss: 6.8207 - accuracy: 0.5854 - val_loss: 11.4727 - val_accuracy: 0.3245\n",
      "Epoch 61/100\n",
      "1875/1875 [==============================] - 4s 2ms/step - loss: 6.5166 - accuracy: 0.5843 - val_loss: 2.9652 - val_accuracy: 0.7866\n",
      "Epoch 62/100\n",
      "1875/1875 [==============================] - 4s 2ms/step - loss: 7.9036 - accuracy: 0.5756 - val_loss: 17.8102 - val_accuracy: 0.5350\n",
      "Epoch 63/100\n",
      "1875/1875 [==============================] - 4s 2ms/step - loss: 5.0822 - accuracy: 0.6356 - val_loss: 1.2280 - val_accuracy: 0.5199\n",
      "Epoch 64/100\n",
      "1875/1875 [==============================] - 4s 2ms/step - loss: 5.9912 - accuracy: 0.5959 - val_loss: 2.3594 - val_accuracy: 0.6103\n",
      "Epoch 65/100\n",
      "1875/1875 [==============================] - 4s 2ms/step - loss: 6.9081 - accuracy: 0.5855 - val_loss: 6.8512 - val_accuracy: 0.7493\n",
      "Epoch 66/100\n",
      "1875/1875 [==============================] - 4s 2ms/step - loss: 7.2518 - accuracy: 0.5855 - val_loss: 2.7166 - val_accuracy: 0.6250\n",
      "Epoch 67/100\n",
      "1875/1875 [==============================] - 4s 2ms/step - loss: 6.2111 - accuracy: 0.5957 - val_loss: 12.7522 - val_accuracy: 0.2107\n",
      "Epoch 68/100\n",
      "1875/1875 [==============================] - 4s 2ms/step - loss: 7.9676 - accuracy: 0.5933 - val_loss: 0.4551 - val_accuracy: 0.6816\n",
      "Epoch 69/100\n",
      "1875/1875 [==============================] - 4s 2ms/step - loss: 3.1997 - accuracy: 0.6363 - val_loss: 5.9236 - val_accuracy: 0.3069\n",
      "Epoch 70/100\n",
      "1875/1875 [==============================] - 4s 2ms/step - loss: 4.5413 - accuracy: 0.6051 - val_loss: 11.2880 - val_accuracy: 0.8522\n",
      "Epoch 71/100\n",
      "1875/1875 [==============================] - 4s 2ms/step - loss: 9.5301 - accuracy: 0.5674 - val_loss: 2.3349 - val_accuracy: 0.8384\n",
      "Epoch 72/100\n",
      "1875/1875 [==============================] - 4s 2ms/step - loss: 5.4586 - accuracy: 0.5989 - val_loss: 1.2741 - val_accuracy: 0.7831\n",
      "Epoch 73/100\n",
      "1875/1875 [==============================] - 4s 2ms/step - loss: 8.1743 - accuracy: 0.5897 - val_loss: 2.5723 - val_accuracy: 0.8990\n",
      "Epoch 74/100\n",
      "1875/1875 [==============================] - 4s 2ms/step - loss: 4.3059 - accuracy: 0.6181 - val_loss: 11.2642 - val_accuracy: 0.3915\n",
      "Epoch 75/100\n",
      "1875/1875 [==============================] - 4s 2ms/step - loss: 8.8134 - accuracy: 0.5850 - val_loss: 7.0392 - val_accuracy: 0.8602\n",
      "Epoch 76/100\n",
      "1875/1875 [==============================] - 4s 2ms/step - loss: 8.0476 - accuracy: 0.5724 - val_loss: 2.1825 - val_accuracy: 0.5790\n",
      "Epoch 77/100\n",
      "1875/1875 [==============================] - 4s 2ms/step - loss: 6.2236 - accuracy: 0.5877 - val_loss: 24.8510 - val_accuracy: 0.6522\n",
      "Epoch 78/100\n",
      "1875/1875 [==============================] - 4s 2ms/step - loss: 8.4121 - accuracy: 0.5862 - val_loss: 9.2701 - val_accuracy: 0.3633\n",
      "Epoch 79/100\n",
      "1875/1875 [==============================] - 4s 2ms/step - loss: 5.8887 - accuracy: 0.5799 - val_loss: 6.0001 - val_accuracy: 0.3720\n",
      "Epoch 80/100\n",
      "1875/1875 [==============================] - 4s 2ms/step - loss: 5.2200 - accuracy: 0.5869 - val_loss: 5.1582 - val_accuracy: 0.3486\n",
      "Epoch 81/100\n",
      "1875/1875 [==============================] - 4s 2ms/step - loss: 5.0437 - accuracy: 0.6011 - val_loss: 39.0327 - val_accuracy: 0.1501\n",
      "Epoch 82/100\n",
      "1875/1875 [==============================] - 4s 2ms/step - loss: 7.7222 - accuracy: 0.5837 - val_loss: 5.8135 - val_accuracy: 0.7235\n",
      "Epoch 83/100\n",
      "1875/1875 [==============================] - 4s 2ms/step - loss: 7.5155 - accuracy: 0.5715 - val_loss: 2.7129 - val_accuracy: 0.8085\n",
      "Epoch 84/100\n",
      "1875/1875 [==============================] - 4s 2ms/step - loss: 5.4607 - accuracy: 0.5881 - val_loss: 1.4233 - val_accuracy: 0.7468\n",
      "Epoch 85/100\n",
      "1875/1875 [==============================] - 4s 2ms/step - loss: 5.3122 - accuracy: 0.6179 - val_loss: 3.2360 - val_accuracy: 0.6721\n",
      "Epoch 86/100\n",
      "1875/1875 [==============================] - 4s 2ms/step - loss: 7.5327 - accuracy: 0.5857 - val_loss: 7.5095 - val_accuracy: 0.6171\n",
      "Epoch 87/100\n",
      "1875/1875 [==============================] - 4s 2ms/step - loss: 4.8663 - accuracy: 0.6019 - val_loss: 2.6934 - val_accuracy: 0.6018\n",
      "Epoch 88/100\n",
      "1875/1875 [==============================] - 4s 2ms/step - loss: 5.2916 - accuracy: 0.5909 - val_loss: 54.8586 - val_accuracy: 0.7523\n",
      "Epoch 89/100\n",
      "1875/1875 [==============================] - 4s 2ms/step - loss: 9.2260 - accuracy: 0.5815 - val_loss: 1.0446 - val_accuracy: 0.6882\n",
      "Epoch 90/100\n",
      "1875/1875 [==============================] - 4s 2ms/step - loss: 5.2480 - accuracy: 0.6098 - val_loss: 10.8432 - val_accuracy: 0.8990\n",
      "Epoch 91/100\n",
      "1875/1875 [==============================] - 4s 2ms/step - loss: 7.2374 - accuracy: 0.5762 - val_loss: 1.9883 - val_accuracy: 0.5918\n",
      "Epoch 92/100\n",
      "1875/1875 [==============================] - 4s 2ms/step - loss: 4.1166 - accuracy: 0.6274 - val_loss: 5.5831 - val_accuracy: 0.8520\n",
      "Epoch 93/100\n",
      "1875/1875 [==============================] - 4s 2ms/step - loss: 6.1349 - accuracy: 0.5997 - val_loss: 4.7032 - val_accuracy: 0.6213\n",
      "Epoch 94/100\n",
      "1875/1875 [==============================] - 4s 2ms/step - loss: 6.0066 - accuracy: 0.5852 - val_loss: 3.1756 - val_accuracy: 0.7356\n",
      "Epoch 95/100\n",
      "1875/1875 [==============================] - 4s 2ms/step - loss: 7.8490 - accuracy: 0.5803 - val_loss: 5.6762 - val_accuracy: 0.8531\n",
      "Epoch 96/100\n",
      "1875/1875 [==============================] - 4s 2ms/step - loss: 4.2610 - accuracy: 0.6063 - val_loss: 4.8362 - val_accuracy: 0.6274\n",
      "Epoch 97/100\n",
      "1875/1875 [==============================] - 4s 2ms/step - loss: 8.2001 - accuracy: 0.5748 - val_loss: 17.4064 - val_accuracy: 0.6087\n",
      "Epoch 98/100\n",
      "1875/1875 [==============================] - 4s 2ms/step - loss: 8.9275 - accuracy: 0.5901 - val_loss: 1.7357 - val_accuracy: 0.4238\n",
      "Epoch 99/100\n",
      "1875/1875 [==============================] - 4s 2ms/step - loss: 5.3552 - accuracy: 0.5960 - val_loss: 12.2682 - val_accuracy: 0.5479\n",
      "Epoch 100/100\n",
      "1875/1875 [==============================] - 4s 2ms/step - loss: 6.5378 - accuracy: 0.5924 - val_loss: 4.3165 - val_accuracy: 0.7333\n"
     ]
    },
    {
     "data": {
      "text/plain": [
       "<tensorflow.python.keras.callbacks.History at 0x13878ab2278>"
      ]
     },
     "execution_count": 50,
     "metadata": {},
     "output_type": "execute_result"
    }
   ],
   "source": [
    "new_model.compile(loss=model_params[\"loss\"],\n",
    "              optimizer=model_params[\"optimizer\"],\n",
    "              metrics=['accuracy'])\n",
    "\n",
    "log_dir = \"logs/fit/\" + new_model.name\n",
    "tb_callback = tf.keras.callbacks.TensorBoard(log_dir=log_dir, histogram_freq=1)\n",
    "\n",
    "\n",
    "new_model.fit(x_train, is_five_train, \n",
    "          epochs=model_params[\"epochs\"], \n",
    "          batch_size=model_params[\"batch_size\"],\n",
    "          validation_data=(x_test, is_five_test), \n",
    "          callbacks=[tb_callback])\n"
   ]
  },
  {
   "cell_type": "code",
   "execution_count": 51,
   "id": "9e4477b6",
   "metadata": {},
   "outputs": [
    {
     "data": {
      "text/plain": [
       "Reusing TensorBoard on port 6006 (pid 19244), started 1:54:16 ago. (Use '!kill 19244' to kill it.)"
      ]
     },
     "metadata": {},
     "output_type": "display_data"
    },
    {
     "data": {
      "text/html": [
       "\n",
       "      <iframe id=\"tensorboard-frame-a1386b6876eb77a5\" width=\"100%\" height=\"800\" frameborder=\"0\">\n",
       "      </iframe>\n",
       "      <script>\n",
       "        (function() {\n",
       "          const frame = document.getElementById(\"tensorboard-frame-a1386b6876eb77a5\");\n",
       "          const url = new URL(\"/\", window.location);\n",
       "          const port = 6006;\n",
       "          if (port) {\n",
       "            url.port = port;\n",
       "          }\n",
       "          frame.src = url;\n",
       "        })();\n",
       "      </script>\n",
       "    "
      ],
      "text/plain": [
       "<IPython.core.display.HTML object>"
      ]
     },
     "metadata": {},
     "output_type": "display_data"
    }
   ],
   "source": [
    "%tensorboard --logdir logs/fit"
   ]
  },
  {
   "cell_type": "code",
   "execution_count": 52,
   "id": "0bdb3913",
   "metadata": {},
   "outputs": [
    {
     "data": {
      "text/html": [
       "<div>\n",
       "<style scoped>\n",
       "    .dataframe tbody tr th:only-of-type {\n",
       "        vertical-align: middle;\n",
       "    }\n",
       "\n",
       "    .dataframe tbody tr th {\n",
       "        vertical-align: top;\n",
       "    }\n",
       "\n",
       "    .dataframe thead th {\n",
       "        text-align: right;\n",
       "    }\n",
       "</style>\n",
       "<table border=\"1\" class=\"dataframe\">\n",
       "  <thead>\n",
       "    <tr style=\"text-align: right;\">\n",
       "      <th></th>\n",
       "      <th>predicted_label</th>\n",
       "      <th>true_label</th>\n",
       "      <th>is_five</th>\n",
       "    </tr>\n",
       "  </thead>\n",
       "  <tbody>\n",
       "    <tr>\n",
       "      <th>0</th>\n",
       "      <td>-1.654637</td>\n",
       "      <td>7</td>\n",
       "      <td>False</td>\n",
       "    </tr>\n",
       "    <tr>\n",
       "      <th>1</th>\n",
       "      <td>0.047388</td>\n",
       "      <td>2</td>\n",
       "      <td>False</td>\n",
       "    </tr>\n",
       "    <tr>\n",
       "      <th>2</th>\n",
       "      <td>0.550677</td>\n",
       "      <td>1</td>\n",
       "      <td>False</td>\n",
       "    </tr>\n",
       "    <tr>\n",
       "      <th>3</th>\n",
       "      <td>-2.890567</td>\n",
       "      <td>0</td>\n",
       "      <td>False</td>\n",
       "    </tr>\n",
       "    <tr>\n",
       "      <th>4</th>\n",
       "      <td>-2.401729</td>\n",
       "      <td>4</td>\n",
       "      <td>False</td>\n",
       "    </tr>\n",
       "    <tr>\n",
       "      <th>...</th>\n",
       "      <td>...</td>\n",
       "      <td>...</td>\n",
       "      <td>...</td>\n",
       "    </tr>\n",
       "    <tr>\n",
       "      <th>9995</th>\n",
       "      <td>-3.152014</td>\n",
       "      <td>2</td>\n",
       "      <td>False</td>\n",
       "    </tr>\n",
       "    <tr>\n",
       "      <th>9996</th>\n",
       "      <td>-2.583670</td>\n",
       "      <td>3</td>\n",
       "      <td>False</td>\n",
       "    </tr>\n",
       "    <tr>\n",
       "      <th>9997</th>\n",
       "      <td>1.335330</td>\n",
       "      <td>4</td>\n",
       "      <td>False</td>\n",
       "    </tr>\n",
       "    <tr>\n",
       "      <th>9998</th>\n",
       "      <td>0.472484</td>\n",
       "      <td>5</td>\n",
       "      <td>True</td>\n",
       "    </tr>\n",
       "    <tr>\n",
       "      <th>9999</th>\n",
       "      <td>0.706067</td>\n",
       "      <td>6</td>\n",
       "      <td>False</td>\n",
       "    </tr>\n",
       "  </tbody>\n",
       "</table>\n",
       "<p>10000 rows × 3 columns</p>\n",
       "</div>"
      ],
      "text/plain": [
       "      predicted_label  true_label  is_five\n",
       "0           -1.654637           7    False\n",
       "1            0.047388           2    False\n",
       "2            0.550677           1    False\n",
       "3           -2.890567           0    False\n",
       "4           -2.401729           4    False\n",
       "...               ...         ...      ...\n",
       "9995        -3.152014           2    False\n",
       "9996        -2.583670           3    False\n",
       "9997         1.335330           4    False\n",
       "9998         0.472484           5     True\n",
       "9999         0.706067           6    False\n",
       "\n",
       "[10000 rows x 3 columns]"
      ]
     },
     "execution_count": 52,
     "metadata": {},
     "output_type": "execute_result"
    }
   ],
   "source": [
    "n_samples = 10000\n",
    "predictions = new_model.predict(x_test[:n_samples, :, :])\n",
    "true_labels = y_test[:n_samples]\n",
    "is_five = is_five_test[:n_samples]\n",
    "\n",
    "pd.DataFrame(data={\n",
    "    \"predicted_label\": predictions.flatten(),\n",
    "    \"true_label\": true_labels,\n",
    "    \"is_five\": is_five\n",
    "})"
   ]
  },
  {
   "cell_type": "markdown",
   "id": "03f1f98d",
   "metadata": {},
   "source": [
    "### We haven't tried an activation function. That's why our model is broken. Let's add a sigmoid activation to our perceptron"
   ]
  },
  {
   "cell_type": "code",
   "execution_count": 53,
   "id": "7e7b8d39",
   "metadata": {},
   "outputs": [
    {
     "data": {
      "text/plain": [
       "{'epochs': 10, 'batch_size': 32, 'loss': 'mse', 'optimizer': 'adam'}"
      ]
     },
     "execution_count": 53,
     "metadata": {},
     "output_type": "execute_result"
    }
   ],
   "source": [
    "model_params[\"epochs\"] = 10\n",
    "model_params"
   ]
  },
  {
   "cell_type": "code",
   "execution_count": 54,
   "id": "93697836",
   "metadata": {},
   "outputs": [
    {
     "name": "stdout",
     "output_type": "stream",
     "text": [
      "Model: \"model_3\"\n",
      "_________________________________________________________________\n",
      "Layer (type)                 Output Shape              Param #   \n",
      "=================================================================\n",
      "flatten_2 (Flatten)          (None, 784)               0         \n",
      "_________________________________________________________________\n",
      "dense_2 (Dense)              (None, 1)                 785       \n",
      "=================================================================\n",
      "Total params: 785\n",
      "Trainable params: 785\n",
      "Non-trainable params: 0\n",
      "_________________________________________________________________\n"
     ]
    }
   ],
   "source": [
    "new_model = Sequential(name=\"model_3\")\n",
    "new_model.add(Flatten(input_shape=(img_width, img_height)))\n",
    "new_model.add(Dense(1, activation='relu'))\n",
    "\n",
    "new_model.summary()"
   ]
  },
  {
   "cell_type": "code",
   "execution_count": 56,
   "id": "8bcce270",
   "metadata": {},
   "outputs": [
    {
     "name": "stdout",
     "output_type": "stream",
     "text": [
      "Epoch 1/10\n",
      "1875/1875 [==============================] - 5s 3ms/step - loss: 1.1484 - accuracy: 0.9082 - val_loss: 0.0892 - val_accuracy: 0.9108\n",
      "Epoch 2/10\n",
      "1875/1875 [==============================] - 5s 2ms/step - loss: 0.0908 - accuracy: 0.9092 - val_loss: 0.0892 - val_accuracy: 0.9108\n",
      "Epoch 3/10\n",
      "1875/1875 [==============================] - 5s 2ms/step - loss: 0.0887 - accuracy: 0.9113 - val_loss: 0.0892 - val_accuracy: 0.9108\n",
      "Epoch 4/10\n",
      "1875/1875 [==============================] - 4s 2ms/step - loss: 0.0900 - accuracy: 0.9100 - val_loss: 0.0892 - val_accuracy: 0.9108\n",
      "Epoch 5/10\n",
      "1875/1875 [==============================] - 5s 2ms/step - loss: 0.0897 - accuracy: 0.9103 - val_loss: 0.0892 - val_accuracy: 0.9108\n",
      "Epoch 6/10\n",
      "1875/1875 [==============================] - 4s 2ms/step - loss: 0.0904 - accuracy: 0.9096 - val_loss: 0.0892 - val_accuracy: 0.9108\n",
      "Epoch 7/10\n",
      "1875/1875 [==============================] - 4s 2ms/step - loss: 0.0901 - accuracy: 0.9099 - val_loss: 0.0892 - val_accuracy: 0.9108\n",
      "Epoch 8/10\n",
      "1875/1875 [==============================] - 4s 2ms/step - loss: 0.0925 - accuracy: 0.9075 - val_loss: 0.0892 - val_accuracy: 0.9108\n",
      "Epoch 9/10\n",
      "1875/1875 [==============================] - 4s 2ms/step - loss: 0.0907 - accuracy: 0.9093 - val_loss: 0.0892 - val_accuracy: 0.9108\n",
      "Epoch 10/10\n",
      "1875/1875 [==============================] - 4s 2ms/step - loss: 0.0897 - accuracy: 0.9103 - val_loss: 0.0892 - val_accuracy: 0.9108\n"
     ]
    },
    {
     "data": {
      "text/plain": [
       "<tensorflow.python.keras.callbacks.History at 0x1374b600c88>"
      ]
     },
     "execution_count": 56,
     "metadata": {},
     "output_type": "execute_result"
    }
   ],
   "source": [
    "new_model.compile(loss=model_params[\"loss\"],\n",
    "              optimizer=model_params[\"optimizer\"],\n",
    "              metrics=['accuracy'])\n",
    "\n",
    "log_dir = \"logs/fit/\" + new_model.name\n",
    "tb_callback = tf.keras.callbacks.TensorBoard(log_dir=log_dir, histogram_freq=1)\n",
    "\n",
    "\n",
    "new_model.fit(x_train, is_five_train, \n",
    "          epochs=model_params[\"epochs\"], \n",
    "          batch_size=model_params[\"batch_size\"],\n",
    "          validation_data=(x_test, is_five_test), \n",
    "          callbacks=[tb_callback])"
   ]
  },
  {
   "cell_type": "code",
   "execution_count": 55,
   "id": "7a624309",
   "metadata": {},
   "outputs": [
    {
     "data": {
      "text/plain": [
       "Reusing TensorBoard on port 6006 (pid 19244), started 1:55:40 ago. (Use '!kill 19244' to kill it.)"
      ]
     },
     "metadata": {},
     "output_type": "display_data"
    },
    {
     "data": {
      "text/html": [
       "\n",
       "      <iframe id=\"tensorboard-frame-f641ae489110029d\" width=\"100%\" height=\"800\" frameborder=\"0\">\n",
       "      </iframe>\n",
       "      <script>\n",
       "        (function() {\n",
       "          const frame = document.getElementById(\"tensorboard-frame-f641ae489110029d\");\n",
       "          const url = new URL(\"/\", window.location);\n",
       "          const port = 6006;\n",
       "          if (port) {\n",
       "            url.port = port;\n",
       "          }\n",
       "          frame.src = url;\n",
       "        })();\n",
       "      </script>\n",
       "    "
      ],
      "text/plain": [
       "<IPython.core.display.HTML object>"
      ]
     },
     "metadata": {},
     "output_type": "display_data"
    }
   ],
   "source": [
    "%tensorboard --logdir logs/fit"
   ]
  },
  {
   "cell_type": "code",
   "execution_count": 57,
   "id": "bd532cf3",
   "metadata": {},
   "outputs": [
    {
     "data": {
      "text/html": [
       "<div>\n",
       "<style scoped>\n",
       "    .dataframe tbody tr th:only-of-type {\n",
       "        vertical-align: middle;\n",
       "    }\n",
       "\n",
       "    .dataframe tbody tr th {\n",
       "        vertical-align: top;\n",
       "    }\n",
       "\n",
       "    .dataframe thead th {\n",
       "        text-align: right;\n",
       "    }\n",
       "</style>\n",
       "<table border=\"1\" class=\"dataframe\">\n",
       "  <thead>\n",
       "    <tr style=\"text-align: right;\">\n",
       "      <th></th>\n",
       "      <th>predicted_label</th>\n",
       "      <th>true_label</th>\n",
       "      <th>is_five</th>\n",
       "    </tr>\n",
       "  </thead>\n",
       "  <tbody>\n",
       "    <tr>\n",
       "      <th>0</th>\n",
       "      <td>0.0</td>\n",
       "      <td>7</td>\n",
       "      <td>False</td>\n",
       "    </tr>\n",
       "    <tr>\n",
       "      <th>1</th>\n",
       "      <td>0.0</td>\n",
       "      <td>2</td>\n",
       "      <td>False</td>\n",
       "    </tr>\n",
       "    <tr>\n",
       "      <th>2</th>\n",
       "      <td>0.0</td>\n",
       "      <td>1</td>\n",
       "      <td>False</td>\n",
       "    </tr>\n",
       "    <tr>\n",
       "      <th>3</th>\n",
       "      <td>0.0</td>\n",
       "      <td>0</td>\n",
       "      <td>False</td>\n",
       "    </tr>\n",
       "    <tr>\n",
       "      <th>4</th>\n",
       "      <td>0.0</td>\n",
       "      <td>4</td>\n",
       "      <td>False</td>\n",
       "    </tr>\n",
       "    <tr>\n",
       "      <th>...</th>\n",
       "      <td>...</td>\n",
       "      <td>...</td>\n",
       "      <td>...</td>\n",
       "    </tr>\n",
       "    <tr>\n",
       "      <th>9995</th>\n",
       "      <td>0.0</td>\n",
       "      <td>2</td>\n",
       "      <td>False</td>\n",
       "    </tr>\n",
       "    <tr>\n",
       "      <th>9996</th>\n",
       "      <td>0.0</td>\n",
       "      <td>3</td>\n",
       "      <td>False</td>\n",
       "    </tr>\n",
       "    <tr>\n",
       "      <th>9997</th>\n",
       "      <td>0.0</td>\n",
       "      <td>4</td>\n",
       "      <td>False</td>\n",
       "    </tr>\n",
       "    <tr>\n",
       "      <th>9998</th>\n",
       "      <td>0.0</td>\n",
       "      <td>5</td>\n",
       "      <td>True</td>\n",
       "    </tr>\n",
       "    <tr>\n",
       "      <th>9999</th>\n",
       "      <td>0.0</td>\n",
       "      <td>6</td>\n",
       "      <td>False</td>\n",
       "    </tr>\n",
       "  </tbody>\n",
       "</table>\n",
       "<p>10000 rows × 3 columns</p>\n",
       "</div>"
      ],
      "text/plain": [
       "      predicted_label  true_label  is_five\n",
       "0                 0.0           7    False\n",
       "1                 0.0           2    False\n",
       "2                 0.0           1    False\n",
       "3                 0.0           0    False\n",
       "4                 0.0           4    False\n",
       "...               ...         ...      ...\n",
       "9995              0.0           2    False\n",
       "9996              0.0           3    False\n",
       "9997              0.0           4    False\n",
       "9998              0.0           5     True\n",
       "9999              0.0           6    False\n",
       "\n",
       "[10000 rows x 3 columns]"
      ]
     },
     "execution_count": 57,
     "metadata": {},
     "output_type": "execute_result"
    }
   ],
   "source": [
    "n_samples = 10000\n",
    "predictions = new_model.predict(x_test[:n_samples, :, :])\n",
    "true_labels = y_test[:n_samples]\n",
    "is_five = is_five_test[:n_samples]\n",
    "\n",
    "pd.DataFrame(data={\n",
    "    \"predicted_label\": predictions.flatten(),\n",
    "    \"true_label\": true_labels,\n",
    "    \"is_five\": is_five\n",
    "})"
   ]
  },
  {
   "cell_type": "code",
   "execution_count": null,
   "id": "dc9dc9dd",
   "metadata": {},
   "outputs": [],
   "source": []
  },
  {
   "cell_type": "code",
   "execution_count": null,
   "id": "5397bead",
   "metadata": {},
   "outputs": [],
   "source": []
  }
 ],
 "metadata": {
  "kernelspec": {
   "display_name": "ml",
   "language": "python",
   "name": "ml"
  },
  "language_info": {
   "codemirror_mode": {
    "name": "ipython",
    "version": 3
   },
   "file_extension": ".py",
   "mimetype": "text/x-python",
   "name": "python",
   "nbconvert_exporter": "python",
   "pygments_lexer": "ipython3",
   "version": "3.6.13"
  },
  "varInspector": {
   "cols": {
    "lenName": 16,
    "lenType": 16,
    "lenVar": 40
   },
   "kernels_config": {
    "python": {
     "delete_cmd_postfix": "",
     "delete_cmd_prefix": "del ",
     "library": "var_list.py",
     "varRefreshCmd": "print(var_dic_list())"
    },
    "r": {
     "delete_cmd_postfix": ") ",
     "delete_cmd_prefix": "rm(",
     "library": "var_list.r",
     "varRefreshCmd": "cat(var_dic_list()) "
    }
   },
   "position": {
    "height": "612px",
    "left": "1544px",
    "right": "20px",
    "top": "120px",
    "width": "356px"
   },
   "types_to_exclude": [
    "module",
    "function",
    "builtin_function_or_method",
    "instance",
    "_Feature"
   ],
   "window_display": true
  }
 },
 "nbformat": 4,
 "nbformat_minor": 5
}
